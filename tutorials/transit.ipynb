{
 "cells": [
  {
   "cell_type": "code",
   "id": "initial_id",
   "metadata": {
    "collapsed": true,
    "ExecuteTime": {
     "end_time": "2024-07-19T04:03:16.280481Z",
     "start_time": "2024-07-19T04:03:15.795836Z"
    }
   },
   "source": [
    "import re\n",
    "\n",
    "import requests\n",
    "from datetime import datetime, timedelta, timezone\n",
    "from bs4 import BeautifulSoup\n",
    "from lib.busstop import BusStop\n",
    "from lib.geometry import Geometry\n",
    "\n",
    "\n",
    "def analyze_yahoo_transit_search_result_html(response: requests.Response) -> list[dict]:\n",
    "    result = []\n",
    "    soup = BeautifulSoup(response.content, 'html.parser')\n",
    "    routes = soup.find_all(class_=\"routeSummary\")\n",
    "    for route in routes:\n",
    "        time_required_raw = route.find(\"li\", class_=\"time\").text if route.find(\"li\", class_=\"time\") is not None else \"不明分\"\n",
    "        fare_raw = route.find(class_=\"fare\").text if route.find(class_=\"fare\") is not None else \"不明円\"\n",
    "        \n",
    "        time_required_group = re.findall(r\"([0-9]+)分\", time_required_raw)\n",
    "        time_required = int(time_required_group[-1])\n",
    "        \n",
    "        fare_group = re.findall(r\"([0-9]+)円\", fare_raw)\n",
    "        fare = int(fare_group[-1])\n",
    "        \n",
    "        result.append(\n",
    "            {\"time_required\": time_required, \"fare\": fare}\n",
    "        )\n",
    "        \n",
    "    return result\n",
    "\n",
    "\n",
    "def get_route_yahoo_transit(from_:BusStop, to:BusStop) -> list[dict]:\n",
    "    # 必須パラメータのみのサンプルurl\n",
    "    # https://transit.yahoo.co.jp/search/result?from=厚木バスセンター%2F神奈川中央交通&to=神奈川工科大学%2F神奈川中央交通&y=2024&m=07&d=19&hh=10&m1=3&m2=6&type=5&ticket=ic&expkind=1&userpass=1&ws=3&s=0&al=0&shin=0&ex=0&hb=0&lb=1&sr=0\n",
    "    \n",
    "    url = \"https://transit.yahoo.co.jp/search/result\"\n",
    "    \n",
    "    # 検索条件パラメータの構成 日本語注釈は要検証\n",
    "    # 出発、到着のバス駅名\n",
    "    from_busstop_name = f\"{from_.name}/{from_.group.replace('（株）', '')}\"\n",
    "    to_busstop_name = f\"{to.name}/{to.group.replace('（株）', '')}\"\n",
    "    \n",
    "    # 日時\n",
    "    now = datetime.now(timezone(timedelta(hours=+9), 'JST'))\n",
    "    y = now.year\n",
    "    m = now.month\n",
    "    d = now.day\n",
    "    hh = now.hour\n",
    "    _min = str(now.minute).zfill(2)\n",
    "    m1 = int(_min[0])\n",
    "    m2 = int(_min[1])\n",
    "    type_ = 5 # 出発=1, 到着=2, 始発=3, 終電=4, 指定なし=5\n",
    "    \n",
    "    # 運賃\n",
    "    exp_kind = 1 # ICカード優先=1, 現金(きっぷ)優先=2\n",
    "    user_pass = 1 # 自由席優先=1, 指定席優先=2, グリーン車優先=3\n",
    "    \n",
    "    # 条件\n",
    "    ws = 3 # walk-speed? 急いで=1, 少し急いで=2, 少しゆっくり=3, ゆっくり=4\n",
    "    s = 0 # show-rule? 到着が早い順=0, 料金が安い順=1, 乗り換え回数順=2\n",
    "    \n",
    "    # 手段\n",
    "    al = 0 # air-load 空路\n",
    "    shin = 0 # shinkansen 新幹線\n",
    "    ex = 0 # express 特急\n",
    "    hb = 0 # high-speed-bus? 高速バス\n",
    "    lb = 1 # load?/bus? 路線/連絡バス\n",
    "    sr = 0 # sea-road フェリー\n",
    "    \n",
    "    headers = {\"User-Agent\": \"Mozilla/5.0 (Windows NT 10.0; Win64; x64) AppleWebKit/537.36 (KHTML, like Gecko) Chrome/126.0.0.0 Safari/537.36\"}\n",
    "    \n",
    "    result = requests.get(url=url,params={\n",
    "        \"from\": from_busstop_name, \"to\": to_busstop_name,\n",
    "        \"y\": y, \"m\": m, \"d\": d, \"hh\": hh, \"m1\":m1, \"m2\":m2, \"type\": type_,\n",
    "        \"expkind\": exp_kind, \"userpass\": user_pass,\n",
    "        \"ws\": ws, \"s\": s,\n",
    "        \"al\": al, \"shin\": shin, \"ex\": ex, \"hb\": hb, \"lb\": lb, \"sr\": sr\n",
    "    }, headers=headers)\n",
    "    return analyze_yahoo_transit_search_result_html(result)\n",
    "\n",
    "\n",
    "from_ = BusStop(name='厚木バスセンター', group='神奈川中央交通（株）', routes=['厚01', '厚02', '厚03', '厚04', '厚05', '厚06', '厚07', '厚08', '厚09', '厚10', '厚12', '厚13', '厚25', '厚26', '厚27', '厚32', '厚33', '厚34', '厚38', '厚39', '厚43', '厚44', '厚45', '厚46', '厚47', '厚48', '厚59', '厚60', '厚61', '厚62', '厚63', '厚64', '厚66', '厚67', '厚74', '厚76', '厚79', '厚80', '厚81', '厚89', '厚94', '厚95', '厚96', '厚97', '厚101', '厚105'], geometry=Geometry(type='Point', lat=35.44105937264755, long=139.36698914169125))\n",
    "to = BusStop(name='神奈川工科大学', group='神奈川中央交通（株）', routes=['厚67'], geometry=Geometry(type='Point', lat=35.48634079963154, long=139.34069452271203))\n",
    "   \n",
    "result = get_route_yahoo_transit(from_, to)\n",
    "print(result)\n",
    "    \n",
    "    \n",
    "    "
   ],
   "outputs": [
    {
     "name": "stdout",
     "output_type": "stream",
     "text": [
      "[{'time_required': 17, 'fare': 350}]\n"
     ]
    }
   ],
   "execution_count": 50
  }
 ],
 "metadata": {
  "kernelspec": {
   "display_name": "Python 3",
   "language": "python",
   "name": "python3"
  },
  "language_info": {
   "codemirror_mode": {
    "name": "ipython",
    "version": 2
   },
   "file_extension": ".py",
   "mimetype": "text/x-python",
   "name": "python",
   "nbconvert_exporter": "python",
   "pygments_lexer": "ipython2",
   "version": "2.7.6"
  }
 },
 "nbformat": 4,
 "nbformat_minor": 5
}
