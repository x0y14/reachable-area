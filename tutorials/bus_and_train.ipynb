{
 "cells": [
  {
   "metadata": {
    "ExecuteTime": {
     "end_time": "2024-08-06T01:26:59.849946Z",
     "start_time": "2024-08-06T01:26:59.786107Z"
    }
   },
   "cell_type": "code",
   "source": [
    "# インポート\n",
    "from sources.api.bus import *\n",
    "from sources.api.train import *"
   ],
   "id": "993597040393e1d8",
   "outputs": [
    {
     "name": "stderr",
     "output_type": "stream",
     "text": [
      "/Users/x0y14/dev/reachable-area/.venv/lib/python3.9/site-packages/urllib3/__init__.py:35: NotOpenSSLWarning: urllib3 v2 only supports OpenSSL 1.1.1+, currently the 'ssl' module is compiled with 'LibreSSL 2.8.3'. See: https://github.com/urllib3/urllib3/issues/3020\n",
      "  warnings.warn(\n"
     ]
    }
   ],
   "execution_count": 1
  },
  {
   "metadata": {
    "ExecuteTime": {
     "end_time": "2024-08-06T01:27:00.140042Z",
     "start_time": "2024-08-06T01:26:59.851147Z"
    }
   },
   "cell_type": "code",
   "source": [
    "# データの読み込み\n",
    "stops = load_stop_data(\"../dataset/busstpos/kanagawa/P11-22_14.geojson\")\n",
    "stations = load_station_data(\"../dataset/stations/N02-20_Station.geojson\")"
   ],
   "id": "e4cc8b37ee0a07ee",
   "outputs": [],
   "execution_count": 2
  },
  {
   "metadata": {
    "ExecuteTime": {
     "end_time": "2024-08-06T01:27:00.150306Z",
     "start_time": "2024-08-06T01:27:00.140680Z"
    }
   },
   "cell_type": "code",
   "source": [
    "# 神奈川中央交通の、KAITを通るバス停のみを取り出す。\n",
    "kanachuStops = []\n",
    "kait_routes = ['厚07', '厚67', '厚89']  # 神奈川工科大学に辿り着けるバス路線\n",
    "for stop in stops:\n",
    "    for kait_route in kait_routes:\n",
    "        if (kait_route in stop.routes) and (stop not in kanachuStops):\n",
    "            kanachuStops.append(stop)\n",
    "\n",
    "# 小田原線の駅のみ取り出す。\n",
    "odakyuStations = []\n",
    "for station in stations:\n",
    "    if \"小田原線\" == station.line:\n",
    "        odakyuStations.append(station)\n",
    "\n",
    "print(f\"神奈川中央交通のバス停: {len(kanachuStops)}, 小田原線の駅: {len(odakyuStations)}\")"
   ],
   "id": "b20b27c9ae7c22d",
   "outputs": [
    {
     "name": "stdout",
     "output_type": "stream",
     "text": [
      "神奈川中央交通のバス停: 30, 小田原線の駅: 47\n"
     ]
    }
   ],
   "execution_count": 3
  },
  {
   "metadata": {
    "ExecuteTime": {
     "end_time": "2024-08-06T01:31:03.799699Z",
     "start_time": "2024-08-06T01:31:03.619589Z"
    }
   },
   "cell_type": "code",
   "source": [
    "# >> 不動産公正取引協議会連合会が定める「不動産の表示に関する公正競争規約」では、徒歩で１分間に歩く距離を「80m」として所要時間が算出されています。(出典: https://www.ur-net.go.jp/chintai/college/202310/000877.html, 2024/08/06 閲覧)\n",
    "\n",
    "# 各バス停から800メートル以内の駅を取り出す。\n",
    "stations800m = []\n",
    "for station in odakyuStations:\n",
    "    station_mean_coord = station.geometry.calc_mean()\n",
    "    for stop in kanachuStops:\n",
    "        distance_between_station_and_stop = calc_distance_m(station_mean_coord, stop.geometry.calc_mean())\n",
    "        if (distance_between_station_and_stop <= 800) and station not in stations800m:\n",
    "            stations800m.append(station)\n",
    "print(f\"いずれかのバス停から800m以内に存在する小田急の駅の数: {len(stations800m)}\")\n",
    "for st in stations800m:\n",
    "    print(st.name)"
   ],
   "id": "207ff079cdaec478",
   "outputs": [
    {
     "name": "stdout",
     "output_type": "stream",
     "text": [
      "いずれかのバス停から800m以内に存在する小田急の駅の数: 1\n",
      "本厚木\n"
     ]
    }
   ],
   "execution_count": 9
  }
 ],
 "metadata": {
  "kernelspec": {
   "display_name": "Python 3",
   "language": "python",
   "name": "python3"
  },
  "language_info": {
   "codemirror_mode": {
    "name": "ipython",
    "version": 2
   },
   "file_extension": ".py",
   "mimetype": "text/x-python",
   "name": "python",
   "nbconvert_exporter": "python",
   "pygments_lexer": "ipython2",
   "version": "2.7.6"
  }
 },
 "nbformat": 4,
 "nbformat_minor": 5
}
