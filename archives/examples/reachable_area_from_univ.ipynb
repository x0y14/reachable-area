{
 "cells": [
  {
   "cell_type": "code",
   "id": "initial_id",
   "metadata": {
    "collapsed": true,
    "ExecuteTime": {
     "end_time": "2024-08-07T03:23:41.837124Z",
     "start_time": "2024-08-07T03:23:41.747872Z"
    }
   },
   "source": [
    "from sources.api.bus import *\n",
    "from sources.api.train import *\n",
    "from sources.api.yahoo_transit import *"
   ],
   "outputs": [
    {
     "name": "stderr",
     "output_type": "stream",
     "text": [
      "/Users/x0y14/dev/reachable-area/.venv/lib/python3.9/site-packages/urllib3/__init__.py:35: NotOpenSSLWarning: urllib3 v2 only supports OpenSSL 1.1.1+, currently the 'ssl' module is compiled with 'LibreSSL 2.8.3'. See: https://github.com/urllib3/urllib3/issues/3020\n",
      "  warnings.warn(\n"
     ]
    }
   ],
   "execution_count": 1
  },
  {
   "metadata": {
    "ExecuteTime": {
     "end_time": "2024-08-07T03:23:42.144551Z",
     "start_time": "2024-08-07T03:23:41.838414Z"
    }
   },
   "cell_type": "code",
   "source": [
    "kanagawa_stops = load_stop_data(\"../dataset/busstpos/kanagawa/P11-22_14.geojson\")\n",
    "stations = load_station_data(\"../dataset/stations/N02-20_Station.geojson\")"
   ],
   "id": "c8c51b2d7f95c208",
   "outputs": [],
   "execution_count": 2
  },
  {
   "metadata": {
    "ExecuteTime": {
     "end_time": "2024-08-07T03:23:42.149671Z",
     "start_time": "2024-08-07T03:23:42.145317Z"
    }
   },
   "cell_type": "code",
   "source": [
    "# 検索時をイメージして、入力から駅データを取り出す。\n",
    "FRONT_OF_KAIT_STOP = None  # 神奈川工科大学前\n",
    "INSIDE_OF_KAIT_STOP = None  # 神奈川工科大学(校内)\n",
    "\n",
    "for stop in kanagawa_stops:\n",
    "    if \"神奈川工科大学前\" == stop.name:\n",
    "        FRONT_OF_KAIT_STOP = stop\n",
    "    elif \"神奈川工科大学\" == stop.name:\n",
    "        INSIDE_OF_KAIT_STOP = stop\n",
    "\n",
    "print(str(FRONT_OF_KAIT_STOP), str(INSIDE_OF_KAIT_STOP))"
   ],
   "id": "daea3b2107f4d2a3",
   "outputs": [
    {
     "name": "stdout",
     "output_type": "stream",
     "text": [
      "神奈川中央交通（株）-神奈川工科大学前 神奈川中央交通（株）-神奈川工科大学\n"
     ]
    }
   ],
   "execution_count": 3
  },
  {
   "metadata": {
    "ExecuteTime": {
     "end_time": "2024-08-07T03:23:42.159329Z",
     "start_time": "2024-08-07T03:23:42.150906Z"
    }
   },
   "cell_type": "code",
   "source": [
    "# バス路線の取得\n",
    "kait_routes = list(set(FRONT_OF_KAIT_STOP.routes + INSIDE_OF_KAIT_STOP.routes))\n",
    "print(kait_routes)\n",
    "\n",
    "# バス路線上のバス停の取得\n",
    "stops_of_kait_routes = []\n",
    "for stop in kanagawa_stops:\n",
    "    for kait_route in kait_routes:\n",
    "        if (kait_route in stop.routes) and (stop not in stops_of_kait_routes):\n",
    "            stops_of_kait_routes.append(stop)\n",
    "\n",
    "#全てのバス会社から検索するのは時間がかかるので、同じバス会社に限る\n",
    "BUS_GROUP = FRONT_OF_KAIT_STOP.group"
   ],
   "id": "b7a796630c67c067",
   "outputs": [
    {
     "name": "stdout",
     "output_type": "stream",
     "text": [
      "['厚67', '厚07', '厚89']\n"
     ]
    }
   ],
   "execution_count": 4
  },
  {
   "metadata": {
    "ExecuteTime": {
     "end_time": "2024-08-07T04:33:55.944498Z",
     "start_time": "2024-08-07T03:23:42.160887Z"
    }
   },
   "cell_type": "code",
   "source": [
    "# 350円で行ける場所\n",
    "# 1. バスのみ\n",
    "\n",
    "rule_max_fare = 350\n",
    "rule_max_transfer = 0\n",
    "\n",
    "stops_fare_350 = []\n",
    "\n",
    "for kait_stop in [FRONT_OF_KAIT_STOP, INSIDE_OF_KAIT_STOP]:\n",
    "    for stop in kanagawa_stops:\n",
    "        if BUS_GROUP != stop.group:\n",
    "            continue\n",
    "        routes = get_route_yahoo_transit(\n",
    "            TransitType.BUS,\n",
    "            generate_bus_stop_name(stop),\n",
    "            generate_bus_stop_name(kait_stop))\n",
    "        for route in routes:\n",
    "            if (route[\"fare\"] <= rule_max_fare) and (route[\"transfer\"] <= rule_max_transfer) and (\n",
    "                    stop not in stops_fare_350):\n",
    "                stops_fare_350.append(stop)\n",
    "\n",
    "for stop in stops_fare_350:\n",
    "    print(str(stop))"
   ],
   "id": "39df90f191ca6388",
   "outputs": [
    {
     "name": "stdout",
     "output_type": "stream",
     "text": [
      "神奈川中央交通（株）-三本松\n",
      "神奈川中央交通（株）-新中野橋\n",
      "神奈川中央交通（株）-亀井\n",
      "神奈川中央交通（株）-亀井橋\n",
      "神奈川中央交通（株）-第一住宅\n",
      "神奈川中央交通（株）-小田急住宅前\n",
      "神奈川中央交通（株）-下川入\n",
      "神奈川中央交通（株）-才戸橋\n",
      "神奈川中央交通（株）-あつぎ郷土博物館\n",
      "神奈川中央交通（株）-棚沢\n",
      "神奈川中央交通（株）-鳶尾一丁目\n",
      "神奈川中央交通（株）-鳶尾団地\n",
      "神奈川中央交通（株）-鳶尾小学校入口\n",
      "神奈川中央交通（株）-西四ツ谷\n",
      "神奈川中央交通（株）-鳶尾団地東\n",
      "神奈川中央交通（株）-リコー前\n",
      "神奈川中央交通（株）-子中\n",
      "神奈川中央交通（株）-荻野新宿\n",
      "神奈川中央交通（株）-宿原入口\n",
      "神奈川中央交通（株）-糀屋前\n",
      "神奈川中央交通（株）-松蓮寺\n",
      "神奈川中央交通（株）-妻田薬師\n",
      "神奈川中央交通（株）-中村入口\n",
      "神奈川中央交通（株）-妻田\n",
      "神奈川中央交通（株）-三家入口\n",
      "神奈川中央交通（株）-木売場\n",
      "神奈川中央交通（株）-市立病院前\n",
      "神奈川中央交通（株）-税務署入口\n",
      "神奈川中央交通（株）-厚木東町\n",
      "神奈川中央交通（株）-厚木ナイロン\n",
      "神奈川中央交通（株）-市役所入口\n",
      "神奈川中央交通（株）-あつぎ大通り\n",
      "神奈川中央交通（株）-厚木バスセンター\n",
      "神奈川中央交通（株）-本厚木駅\n",
      "神奈川中央交通（株）-本厚木駅南口\n",
      "神奈川中央交通（株）-鶴嶺八幡宮\n",
      "神奈川中央交通（株）-入ノ田\n",
      "神奈川中央交通（株）-新宿\n"
     ]
    }
   ],
   "execution_count": 5
  },
  {
   "metadata": {},
   "cell_type": "code",
   "outputs": [],
   "execution_count": null,
   "source": "# 2.バスと",
   "id": "ad27d84588b4fcc3"
  }
 ],
 "metadata": {
  "kernelspec": {
   "display_name": "Python 3",
   "language": "python",
   "name": "python3"
  },
  "language_info": {
   "codemirror_mode": {
    "name": "ipython",
    "version": 2
   },
   "file_extension": ".py",
   "mimetype": "text/x-python",
   "name": "python",
   "nbconvert_exporter": "python",
   "pygments_lexer": "ipython2",
   "version": "2.7.6"
  }
 },
 "nbformat": 4,
 "nbformat_minor": 5
}
