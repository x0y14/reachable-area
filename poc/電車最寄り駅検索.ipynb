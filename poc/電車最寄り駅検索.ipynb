{
 "cells": [
  {
   "metadata": {},
   "cell_type": "markdown",
   "source": "## 小田急・本厚木駅を入力とし、厚木、海老名、愛甲石田、伊勢原を出力したい。",
   "id": "8add099f7eab2189"
  },
  {
   "cell_type": "code",
   "id": "initial_id",
   "metadata": {
    "collapsed": true,
    "ExecuteTime": {
     "end_time": "2024-10-02T03:13:47.431669Z",
     "start_time": "2024-10-02T03:13:46.799953Z"
    }
   },
   "source": [
    "from typing import Optional\n",
    "from engine import Station, TransitType, get_route_yahoo_transit\n",
    "from engine.bus import *\n",
    "from engine.train import *\n",
    "\n",
    "# データの読み込み\n",
    "dataset: dict[TransitType, list[Station]] = {\n",
    "    TransitType.BUS: load_stop_data(\"../dataset/busstops/kanagawa/P11-22_14.geojson\"),\n",
    "    TransitType.TRAIN: load_station_data(\"../dataset/stations/N02-20_Station.geojson\"),\n",
    "}"
   ],
   "outputs": [],
   "execution_count": 6
  },
  {
   "metadata": {
    "ExecuteTime": {
     "end_time": "2024-10-02T03:26:22.297813Z",
     "start_time": "2024-10-02T03:26:22.223530Z"
    }
   },
   "cell_type": "code",
   "source": [
    "# 電車の本厚木駅を取り出す\n",
    "honatugi_bus_stop: Optional[Station] = None\n",
    "for stop in dataset[TransitType.TRAIN]:\n",
    "    if stop.name == \"本厚木\":\n",
    "        honatugi_bus_stop = stop\n",
    "if honatugi_bus_stop is None:\n",
    "    print(\"本厚木駅をみつけられませんでした\")\n",
    "\n",
    "# 同じ路線の駅を集める\n",
    "same_line_stations: list[tuple[int, Station]] = []\n",
    "for train_station in dataset[TransitType.TRAIN]:\n",
    "    if set(honatugi_bus_stop.line_routes).issubset(train_station.line_routes):\n",
    "        distance = calc_distance_m(honatugi_bus_stop.geometry.calc_mean(), train_station.geometry.calc_mean())\n",
    "        same_line_stations.append((distance, train_station))\n",
    "\n",
    "same_line_stations_sorted_by_distance = sorted(same_line_stations, key=lambda x:x[0])\n",
    "for distance, station in same_line_stations_sorted_by_distance:\n",
    "    print(f\"{distance} : {station.name}\")\n"
   ],
   "id": "9d4a2bc4b55db268",
   "outputs": [
    {
     "name": "stdout",
     "output_type": "stream",
     "text": [
      "0.0 : 本厚木\n",
      "1306.2181262541962 : 厚木\n",
      "2865.168834622555 : 海老名\n",
      "3004.980658393788 : 愛甲石田\n",
      "5646.030548665488 : 座間\n",
      "6632.513507322157 : 伊勢原\n",
      "7785.195708825077 : 相武台前\n",
      "10003.999834149583 : 小田急相模原\n",
      "10253.975619128154 : 鶴巻温泉\n",
      "11230.862604724387 : 東海大学前\n",
      "12285.87330364468 : 相模大野\n",
      "13722.185493413872 : 町田\n",
      "14719.138228613803 : 秦野\n",
      "16461.365269283273 : 玉川学園前\n",
      "17862.573129674613 : 渋沢\n",
      "19194.423466357708 : 鶴川\n",
      "20597.27726376805 : 柿生\n",
      "22395.70889524604 : 新百合ヶ丘\n",
      "22972.412987026637 : 新松田\n",
      "23330.67650934921 : 百合ヶ丘\n",
      "24242.12004572336 : 開成\n",
      "24486.92363565991 : 読売ランド前\n",
      "24691.397836993638 : 栢山\n",
      "25280.5158199774 : 生田\n",
      "25428.727901036586 : 富水\n",
      "25790.77285125421 : 螢田\n",
      "26626.587419298226 : 足柄\n",
      "26835.62905518793 : 向ヶ丘遊園\n",
      "27423.20487463085 : 登戸\n",
      "27790.458376081333 : 小田原\n",
      "28222.27679741687 : 和泉多摩川\n",
      "28842.577982528666 : 狛江\n",
      "29761.436225200305 : 喜多見\n",
      "30821.746093939044 : 成城学園前\n",
      "31747.002340060037 : 祖師ヶ谷大蔵\n",
      "33037.823912275795 : 千歳船橋\n",
      "34136.162344903496 : 経堂\n",
      "34972.98766797823 : 豪徳寺\n",
      "35583.71390365998 : 梅ヶ丘\n",
      "36297.704055449525 : 世田谷代田\n",
      "36913.8685975826 : 下北沢\n",
      "37593.719532152565 : 東北沢\n",
      "38294.55373984692 : 代々木上原\n",
      "38995.02093422833 : 代々木八幡\n",
      "39954.24975206026 : 参宮橋\n",
      "40670.41048383339 : 南新宿\n",
      "41301.959688861694 : 新宿\n"
     ]
    }
   ],
   "execution_count": 9
  }
 ],
 "metadata": {
  "kernelspec": {
   "display_name": "Python 3",
   "language": "python",
   "name": "python3"
  },
  "language_info": {
   "codemirror_mode": {
    "name": "ipython",
    "version": 2
   },
   "file_extension": ".py",
   "mimetype": "text/x-python",
   "name": "python",
   "nbconvert_exporter": "python",
   "pygments_lexer": "ipython2",
   "version": "2.7.6"
  }
 },
 "nbformat": 4,
 "nbformat_minor": 5
}
