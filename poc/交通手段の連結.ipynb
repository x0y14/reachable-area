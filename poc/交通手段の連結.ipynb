{
 "cells": [
  {
   "metadata": {},
   "cell_type": "markdown",
   "source": [
    "### 神奈川中央交通本厚木駅と小田急本厚木駅のように近いが物理的に接続されているわけではない駅同士を、徒歩数分圏内という区切りで接続するための実験  \n",
    "bus_and_train.ipynbが一番似てる"
   ],
   "id": "a346b8936697ff13"
  },
  {
   "metadata": {},
   "cell_type": "markdown",
   "source": "## 神奈川中央交通と小田急(簡易的な距離)",
   "id": "6d9ea8271d9c6fc9"
  },
  {
   "metadata": {
    "collapsed": true,
    "ExecuteTime": {
     "end_time": "2024-09-25T03:13:33.636015Z",
     "start_time": "2024-09-25T03:13:33.628445Z"
    }
   },
   "cell_type": "code",
   "source": [
    "from engine import Station\n",
    "\n",
    "\n",
    "# Stationの座標を用いて近くの交通機関を取得する\n",
    "def near_transport_station(reference: Station, candidates: list[Station]) -> list[Station]:\n",
    "    near_distance_threshold = 800  # 近所とみなす距離\n",
    "    nears: list[Station] = []\n",
    "\n",
    "    for candidate in candidates:\n",
    "        distance = calc_distance_m(\n",
    "            reference.geometry.calc_mean(),  # 平均値で計算する\n",
    "            candidate.geometry.calc_mean(),\n",
    "        )\n",
    "        if distance <= near_distance_threshold:\n",
    "            nears.append(candidate)\n",
    "\n",
    "    return nears"
   ],
   "id": "initial_id",
   "outputs": [],
   "execution_count": 34
  },
  {
   "metadata": {
    "ExecuteTime": {
     "end_time": "2024-09-25T03:13:35.534065Z",
     "start_time": "2024-09-25T03:13:33.648984Z"
    }
   },
   "cell_type": "code",
   "source": [
    "from typing import Optional\n",
    "from engine import TransitType\n",
    "from engine.bus import *\n",
    "from engine.train import *\n",
    "\n",
    "# データの読み込み\n",
    "dataset: dict[TransitType, list[Station]] = {\n",
    "    TransitType.BUS: load_stop_data(\"../dataset/busstops/kanagawa/P11-22_14.geojson\"),\n",
    "    TransitType.TRAIN: load_station_data(\"../dataset/stations/N02-20_Station.geojson\"),\n",
    "}\n",
    "\n",
    "# バスの本厚木駅を取り出す\n",
    "honatugi_bus_stop: Optional[Station] = None\n",
    "for stop in dataset[TransitType.BUS]:\n",
    "    if stop.name == \"本厚木駅\":\n",
    "        honatugi_bus_stop = stop\n",
    "if honatugi_bus_stop is None:\n",
    "    print(\"本厚木駅をみつけられませんでした\")\n",
    "\n",
    "# バスの本厚木駅から近い電車の駅を探す\n",
    "near_stations = near_transport_station(honatugi_bus_stop, dataset[TransitType.TRAIN])\n",
    "for near_station in near_stations:\n",
    "    print(\", \".join(near_station.management_groups), near_station.name)\n"
   ],
   "id": "9b9885f5712996ac",
   "outputs": [
    {
     "name": "stdout",
     "output_type": "stream",
     "text": [
      "小田急電鉄 本厚木\n"
     ]
    }
   ],
   "execution_count": 35
  },
  {
   "metadata": {},
   "cell_type": "markdown",
   "source": "## 神奈川中央交通と小田急(mapboxの距離計測)",
   "id": "21058edfd40f7f19"
  },
  {
   "metadata": {
    "ExecuteTime": {
     "end_time": "2024-09-25T03:13:35.546625Z",
     "start_time": "2024-09-25T03:13:35.541129Z"
    }
   },
   "cell_type": "code",
   "source": [
    "from dotenv import load_dotenv\n",
    "from typing import Any\n",
    "import os\n",
    "from engine import Station\n",
    "from engine.mapbox import MapBoxApi, IsochroneProfile\n",
    "\n",
    "import geopandas\n",
    "from shapely.geometry import Point\n",
    "\n",
    "load_dotenv()\n",
    "api = MapBoxApi(os.getenv(\"MAPBOX_API_TOKEN\"))\n",
    "\n",
    "# Stationの座標を用いて近くの交通機関を取得する\n",
    "def near_transport_station2(reference: Station, candidates: list[Station]) -> list[Station]:\n",
    "    near_walking_time_min = 10  # 徒歩10分以内を近所とみなす\n",
    "    nears: list[Station] = []\n",
    "\n",
    "    near_area: dict[Any, Any] = api.get_isochrone(\n",
    "        prof=IsochroneProfile.Walking,\n",
    "        coordinate=reference.geometry.calc_mean(),\n",
    "        contours_minutes=[near_walking_time_min],\n",
    "    )\n",
    "    # near_area_gpd = geopandas.read_file(near_area, driver='GeoJSON')  # <- これじゃだめ.\n",
    "    near_area_gpd = geopandas.GeoDataFrame.from_features(near_area)  # <- features dictを直接読み込んであげる\n",
    "    \n",
    "    for candidate in candidates:\n",
    "        coord = candidate.geometry.calc_mean()\n",
    "        point = Point(coord.Lng, coord.Lat)\n",
    "        is_include = near_area_gpd.contains(point)[0]  # Seriesで帰ってくるので取り出してあげる\n",
    "        if is_include:\n",
    "            nears.append(candidate)\n",
    "    \n",
    "    return nears"
   ],
   "id": "d386d6da6ced3a51",
   "outputs": [],
   "execution_count": 36
  },
  {
   "metadata": {
    "ExecuteTime": {
     "end_time": "2024-09-25T03:13:36.503087Z",
     "start_time": "2024-09-25T03:13:35.560705Z"
    }
   },
   "cell_type": "code",
   "source": [
    "from typing import Optional\n",
    "from engine import TransitType\n",
    "from engine.bus import *\n",
    "from engine.train import *\n",
    "\n",
    "# データの読み込み\n",
    "dataset: dict[TransitType, list[Station]] = {\n",
    "    TransitType.BUS: load_stop_data(\"../dataset/busstops/kanagawa/P11-22_14.geojson\"),\n",
    "    TransitType.TRAIN: load_station_data(\"../dataset/stations/N02-20_Station.geojson\"),\n",
    "}\n",
    "\n",
    "# バスの本厚木駅を取り出す\n",
    "honatugi_bus_stop: Optional[Station] = None\n",
    "for stop in dataset[TransitType.BUS]:\n",
    "    if stop.name == \"本厚木駅\":\n",
    "        honatugi_bus_stop = stop\n",
    "if honatugi_bus_stop is None:\n",
    "    print(\"本厚木駅をみつけられませんでした\")\n",
    "\n",
    "# バスの本厚木駅から近い電車の駅を探す\n",
    "near_stations = near_transport_station2(honatugi_bus_stop, dataset[TransitType.TRAIN])\n",
    "for near_station in near_stations:\n",
    "    print(\", \".join(near_station.management_groups), near_station.name)"
   ],
   "id": "d8f1329aa1cac030",
   "outputs": [
    {
     "name": "stdout",
     "output_type": "stream",
     "text": [
      "小田急電鉄 本厚木\n"
     ]
    }
   ],
   "execution_count": 37
  }
 ],
 "metadata": {
  "kernelspec": {
   "display_name": "Python 3",
   "language": "python",
   "name": "python3"
  },
  "language_info": {
   "codemirror_mode": {
    "name": "ipython",
    "version": 2
   },
   "file_extension": ".py",
   "mimetype": "text/x-python",
   "name": "python",
   "nbconvert_exporter": "python",
   "pygments_lexer": "ipython2",
   "version": "2.7.6"
  }
 },
 "nbformat": 4,
 "nbformat_minor": 5
}
